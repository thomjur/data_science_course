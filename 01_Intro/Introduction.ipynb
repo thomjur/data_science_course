{
 "cells": [
  {
   "cell_type": "markdown",
   "id": "edeca01d",
   "metadata": {
    "slideshow": {
     "slide_type": "slide"
    }
   },
   "source": [
    "# Introduction (18.10.2022)\n",
    "\n",
    "By Thomas Jurczyk (Dr. Eberle Zentrum, Universität Tübingen)."
   ]
  },
  {
   "cell_type": "markdown",
   "id": "f87556f0",
   "metadata": {
    "slideshow": {
     "slide_type": "subslide"
    }
   },
   "source": [
    "## Overview\n",
    "\n",
    "1. Introduction\n",
    "\n",
    "2. Data Science Introduction\n",
    "\n",
    "3. Requirements & Goals\n",
    "\n",
    "4. Expectations"
   ]
  },
  {
   "cell_type": "markdown",
   "id": "54976358",
   "metadata": {
    "slideshow": {
     "slide_type": "slide"
    }
   },
   "source": [
    "## 1. Introduction\n",
    "\n",
    "**Name**: Thomas Jurczyk, PhD  \n",
    "  \n",
    "**Mail**: thomas.jurczyk-q88@rub.de"
   ]
  },
  {
   "cell_type": "markdown",
   "id": "df6b8164",
   "metadata": {},
   "source": [
    "### Academic Background\n",
    "\n",
    "History/Study of Religion (PhD)  \n",
    "  \n",
    "(partially) Computer Science  "
   ]
  },
  {
   "cell_type": "markdown",
   "id": "61aac280",
   "metadata": {},
   "source": [
    "### Academic Interests  \n",
    "\n",
    "1. Application of computational methods in the Humanities.\n",
    "    1. Computational text analysis.\n",
    "    2. Machine Learning.\n",
    "    3. Data Science.\n",
    "2. Ancient Religions / early Christianity.\n",
    "3. The meaning and application of religious notions in historical and contemporary religions."
   ]
  },
  {
   "cell_type": "markdown",
   "id": "b61efc69",
   "metadata": {},
   "source": [
    "## 2. Data Science (Introduction)"
   ]
  },
  {
   "cell_type": "markdown",
   "id": "76313ac7",
   "metadata": {},
   "source": [
    "### What is data? What kinds of data do you know?\n",
    "\n",
    "1. Images\n",
    "2. Text\n",
    "3. Tables / Databases\n",
    "4. Times series\n",
    "5. Sensor data\n",
    "\n",
    "Overall, these different data types can be categorized using the following classes:\n",
    "\n",
    "1. Structured data\n",
    "    1. Numerical\n",
    "    2. Categorical\n",
    "2. Unstructured data\n",
    "3. Semi-structured data\n",
    "\n",
    "We will use and analyse different types of data during this course."
   ]
  },
  {
   "cell_type": "markdown",
   "id": "b1c66dfd",
   "metadata": {},
   "source": [
    "### What is \"Data Science\"?\n",
    "\n",
    "> Data science is a \"concept to **unify statistics, data analysis, informatics, and their related methods**\" in order to \"**understand** and analyse **actual phenomena**\" with data (Hayashi 1998). It uses techniques and theories drawn from many fields within the context of **mathematics, statistics, computer science, information science, and domain knowledge**. (quote from this [Wikipedia article](https://en.wikipedia.org/wiki/Data_science), my highlights)"
   ]
  },
  {
   "cell_type": "markdown",
   "id": "8afe9315",
   "metadata": {},
   "source": [
    "\"Data science\" is often thought of as \"applied statistics\" or \"big data analysis with computers\". However, I hope that we will see throughout this course that—even though statistics and big data might play an important part at times—are not mandatory to do data science. \n",
    "\n",
    "What I suggest is to focus on the part of **applying computational methods to analyze data in order to better understand real world phenomena**."
   ]
  },
  {
   "cell_type": "markdown",
   "id": "41ad2aab",
   "metadata": {},
   "source": [
    "The working definition of \"data science\" for this course is:\n",
    "    \n",
    "> Answering a research question by analyzing data with Python.  "
   ]
  },
  {
   "cell_type": "markdown",
   "id": "a4f85507",
   "metadata": {},
   "source": [
    "![Google ngram \"Data Science\" 1990–2019.](images/ngram.png)\n",
    "\n",
    "<sup>Google Ngram viewer \"Data Science\" 1990–2019.</sup>"
   ]
  },
  {
   "cell_type": "markdown",
   "id": "3a3c20bd",
   "metadata": {},
   "source": [
    "![Google Trends \"Data Science\" 2004–2022.](images/trends.png)\n",
    "\n",
    "<sup>Google Trends \"Data Science\" 2004–2022.</sup>"
   ]
  },
  {
   "cell_type": "markdown",
   "id": "cba973ec",
   "metadata": {},
   "source": [
    "## 3. Requirements & Goals"
   ]
  },
  {
   "cell_type": "code",
   "execution_count": null,
   "id": "27773111",
   "metadata": {},
   "outputs": [],
   "source": []
  }
 ],
 "metadata": {
  "kernelspec": {
   "display_name": "Python 3 (ipykernel)",
   "language": "python",
   "name": "python3"
  },
  "language_info": {
   "codemirror_mode": {
    "name": "ipython",
    "version": 3
   },
   "file_extension": ".py",
   "mimetype": "text/x-python",
   "name": "python",
   "nbconvert_exporter": "python",
   "pygments_lexer": "ipython3",
   "version": "3.8.10"
  }
 },
 "nbformat": 4,
 "nbformat_minor": 5
}
