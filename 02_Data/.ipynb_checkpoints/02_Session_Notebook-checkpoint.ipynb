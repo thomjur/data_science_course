{
 "cells": [
  {
   "cell_type": "markdown",
   "id": "d7c330fe",
   "metadata": {},
   "source": [
    "# Data Science—An Introduction (25.10.2022)\n",
    "by Thomas Jurczyk (Dr. Eberle Zentrum, Universität Tübingen)"
   ]
  },
  {
   "cell_type": "markdown",
   "id": "9f88db90",
   "metadata": {},
   "source": [
    "In this session, will get an overview of what data science is by looking at a few examples. In particular, we will introduce the pipeline of "
   ]
  },
  {
   "cell_type": "code",
   "execution_count": null,
   "id": "20bc5a32",
   "metadata": {},
   "outputs": [],
   "source": [
    "from tools.viz import *"
   ]
  },
  {
   "cell_type": "code",
   "execution_count": null,
   "id": "4591e9e0",
   "metadata": {},
   "outputs": [],
   "source": [
    "gv()"
   ]
  },
  {
   "cell_type": "markdown",
   "id": "a812374c",
   "metadata": {},
   "source": [
    "However, before we will do so, I would like to start with some programming exercises. Since we are mainly working with data, it is mandatory that you know how to load and save different types of data with Python."
   ]
  },
  {
   "cell_type": "markdown",
   "id": "671678da",
   "metadata": {},
   "source": [
    "# Programming Exercises: Loading/Saving Data in Python"
   ]
  },
  {
   "cell_type": "markdown",
   "id": "535df03c",
   "metadata": {},
   "source": [
    "Please open a Jupyter notebook in the virtual environment you've created. You can download the `data_sources` folder with the different data sources from ILIAS (or GitHub). Your first task is to open each file in the `data_sources` folder into your Jupyter notebook.  "
   ]
  },
  {
   "cell_type": "markdown",
   "id": "71307e7f",
   "metadata": {},
   "source": [
    "## I. Simple Text File (.txt)"
   ]
  },
  {
   "cell_type": "code",
   "execution_count": null,
   "id": "0fd6d541",
   "metadata": {},
   "outputs": [],
   "source": [
    "with open('data_sources/Seepferdchen_codec-windows1252.txt', encoding=\"cp1252\") as f:\n",
    "    text = f.read()"
   ]
  },
  {
   "cell_type": "code",
   "execution_count": null,
   "id": "a11501da",
   "metadata": {},
   "outputs": [],
   "source": [
    "print(text)"
   ]
  },
  {
   "cell_type": "markdown",
   "id": "00ab7204",
   "metadata": {},
   "source": [
    "## II. Opening a Comma-Separated Value (CSV) File"
   ]
  },
  {
   "cell_type": "code",
   "execution_count": null,
   "id": "bd462de1",
   "metadata": {},
   "outputs": [],
   "source": [
    "### version 1: Python built-in csv reader\n",
    "import csv\n",
    "\n",
    "with open('data_sources/fruits.csv') as f:\n",
    "    csv_file = csv.reader(f, delimiter=\",\")\n",
    "    for row in csv_file:\n",
    "        print(row)"
   ]
  },
  {
   "cell_type": "code",
   "execution_count": null,
   "id": "4006dc1d",
   "metadata": {},
   "outputs": [],
   "source": [
    "### version 2: pandas\n",
    "import pandas as pd"
   ]
  },
  {
   "cell_type": "code",
   "execution_count": null,
   "id": "257ce944",
   "metadata": {},
   "outputs": [],
   "source": [
    "df = pd.read_csv(\"data_sources/fruits.csv\")"
   ]
  },
  {
   "cell_type": "code",
   "execution_count": null,
   "id": "9bd5ee34",
   "metadata": {},
   "outputs": [],
   "source": [
    "df.describe()"
   ]
  },
  {
   "cell_type": "markdown",
   "id": "f29011a3",
   "metadata": {},
   "source": [
    "## III. Opening an Image File"
   ]
  },
  {
   "cell_type": "code",
   "execution_count": null,
   "id": "88c11ff0",
   "metadata": {},
   "outputs": [],
   "source": [
    "from PIL import Image, ImageFilter"
   ]
  },
  {
   "cell_type": "code",
   "execution_count": null,
   "id": "366350a8",
   "metadata": {},
   "outputs": [],
   "source": [
    "img = Image.open(\"data_sources/ok.jpg\")"
   ]
  },
  {
   "cell_type": "code",
   "execution_count": null,
   "id": "81933c9d",
   "metadata": {},
   "outputs": [],
   "source": [
    "img"
   ]
  },
  {
   "cell_type": "markdown",
   "id": "cae68d90",
   "metadata": {},
   "source": [
    "## IV. Opening a Database (sqlite)"
   ]
  },
  {
   "cell_type": "code",
   "execution_count": null,
   "id": "c0c2100f",
   "metadata": {},
   "outputs": [],
   "source": [
    "import sqlite3"
   ]
  },
  {
   "cell_type": "code",
   "execution_count": null,
   "id": "090e6ef0",
   "metadata": {},
   "outputs": [],
   "source": [
    "con = sqlite3.connect(\"data_sources/data.db\")"
   ]
  },
  {
   "cell_type": "code",
   "execution_count": null,
   "id": "874ebb71",
   "metadata": {},
   "outputs": [],
   "source": [
    "cur = con.cursor()"
   ]
  },
  {
   "cell_type": "code",
   "execution_count": null,
   "id": "4f6bb333",
   "metadata": {},
   "outputs": [],
   "source": [
    "results = cur.execute('SELECT * FROM user;')"
   ]
  },
  {
   "cell_type": "code",
   "execution_count": null,
   "id": "81d50dc4",
   "metadata": {},
   "outputs": [],
   "source": [
    "results.fetchall()"
   ]
  },
  {
   "cell_type": "markdown",
   "id": "d041d3bd",
   "metadata": {},
   "source": [
    "# Opening a Byte File (using pickle)"
   ]
  },
  {
   "cell_type": "code",
   "execution_count": 15,
   "id": "b0c41b36",
   "metadata": {},
   "outputs": [],
   "source": [
    "import pickle\n",
    "\n",
    "with open('data_sources/data.pickle', 'rb') as f:\n",
    "    data__ = pickle.load(f)"
   ]
  },
  {
   "cell_type": "code",
   "execution_count": 14,
   "id": "3215c05e",
   "metadata": {},
   "outputs": [],
   "source": []
  },
  {
   "cell_type": "markdown",
   "id": "d6c84396",
   "metadata": {},
   "source": [
    "# Saving Data"
   ]
  },
  {
   "cell_type": "markdown",
   "id": "96abd2e8",
   "metadata": {},
   "source": [
    "Next, please save the following three data types (just create a dummy object).\n",
    "\n",
    "1. A Python data type (list, dict etc.) using pickle.\n",
    "2. A simple text (as a .txt file).\n",
    "3. A pandas DataFrame as CSV."
   ]
  },
  {
   "cell_type": "markdown",
   "id": "e30db88a",
   "metadata": {},
   "source": [
    "## I. Python Object"
   ]
  },
  {
   "cell_type": "markdown",
   "id": "72512afd",
   "metadata": {},
   "source": [
    "## II. Text File"
   ]
  },
  {
   "cell_type": "markdown",
   "id": "cacee31c",
   "metadata": {},
   "source": [
    "## III. pandas DataFrame as CSV"
   ]
  },
  {
   "cell_type": "markdown",
   "id": "a0e0a853",
   "metadata": {},
   "source": [
    "# Data Repositories\n",
    "\n",
    "1. [kaggle.com](https://www.kaggle.com/)\n",
    "2. [Statistisches Bundesamt](https://www.destatis.de/DE/Home/_inhalt.html)"
   ]
  },
  {
   "cell_type": "code",
   "execution_count": null,
   "id": "98cb1f30",
   "metadata": {},
   "outputs": [],
   "source": []
  }
 ],
 "metadata": {
  "kernelspec": {
   "display_name": "Python 3 (ipykernel)",
   "language": "python",
   "name": "python3"
  },
  "language_info": {
   "codemirror_mode": {
    "name": "ipython",
    "version": 3
   },
   "file_extension": ".py",
   "mimetype": "text/x-python",
   "name": "python",
   "nbconvert_exporter": "python",
   "pygments_lexer": "ipython3",
   "version": "3.8.10"
  }
 },
 "nbformat": 4,
 "nbformat_minor": 5
}
