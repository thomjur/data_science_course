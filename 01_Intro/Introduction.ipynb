{
 "cells": [
  {
   "cell_type": "markdown",
   "id": "edeca01d",
   "metadata": {
    "slideshow": {
     "slide_type": "slide"
    }
   },
   "source": [
    "# Data Science Course 2022: Introduction (18.10.2022)\n",
    "\n",
    "By Thomas Jurczyk (Dr. Eberle Zentrum, Universität Tübingen)."
   ]
  },
  {
   "cell_type": "markdown",
   "id": "f87556f0",
   "metadata": {
    "slideshow": {
     "slide_type": "slide"
    }
   },
   "source": [
    "# Overview\n",
    "\n",
    "1. Personal Introduction\n",
    "\n",
    "2. Data Science Introduction\n",
    "\n",
    "3. Requirements & Course Structure\n",
    "\n",
    "4. Goals\n",
    "\n",
    "4. Tasks for the next session\n",
    "\n",
    "5. Resources"
   ]
  },
  {
   "cell_type": "markdown",
   "id": "54976358",
   "metadata": {
    "slideshow": {
     "slide_type": "slide"
    }
   },
   "source": [
    "# 1. Personal Introduction"
   ]
  },
  {
   "cell_type": "markdown",
   "id": "0604e219",
   "metadata": {
    "slideshow": {
     "slide_type": "subslide"
    }
   },
   "source": [
    "**Name**: Thomas Jurczyk, PhD"
   ]
  },
  {
   "cell_type": "markdown",
   "id": "6580113a",
   "metadata": {
    "slideshow": {
     "slide_type": "fragment"
    }
   },
   "source": [
    "**Mail**: thomas.jurczyk-q88@rub.de"
   ]
  },
  {
   "cell_type": "markdown",
   "id": "df6b8164",
   "metadata": {
    "slideshow": {
     "slide_type": "subslide"
    }
   },
   "source": [
    "## Academic Background"
   ]
  },
  {
   "cell_type": "markdown",
   "id": "8d355ec4",
   "metadata": {
    "slideshow": {
     "slide_type": "fragment"
    }
   },
   "source": [
    "History/Study of Religion (PhD)"
   ]
  },
  {
   "cell_type": "markdown",
   "id": "7184e67b",
   "metadata": {
    "slideshow": {
     "slide_type": "fragment"
    }
   },
   "source": [
    "(partially) Computer Science"
   ]
  },
  {
   "cell_type": "markdown",
   "id": "61aac280",
   "metadata": {
    "slideshow": {
     "slide_type": "subslide"
    }
   },
   "source": [
    "## Academic Interests"
   ]
  },
  {
   "cell_type": "markdown",
   "id": "4fd93bbb",
   "metadata": {
    "slideshow": {
     "slide_type": "fragment"
    }
   },
   "source": [
    "1\\. Application of computational methods in the Humanities\n",
    "\n",
    "1. Computational text analysis\n",
    "2. Machine Learning\n",
    "3. Data Science"
   ]
  },
  {
   "cell_type": "markdown",
   "id": "2a8cf124",
   "metadata": {
    "slideshow": {
     "slide_type": "fragment"
    }
   },
   "source": [
    "2\\. Ancient Religions / early Christianity"
   ]
  },
  {
   "cell_type": "markdown",
   "id": "664b9983",
   "metadata": {
    "slideshow": {
     "slide_type": "fragment"
    }
   },
   "source": [
    "3\\. The meaning and application of religious notions in historical and contemporary religions"
   ]
  },
  {
   "cell_type": "markdown",
   "id": "b61efc69",
   "metadata": {
    "slideshow": {
     "slide_type": "slide"
    }
   },
   "source": [
    "# 2. Data Science (Introduction)"
   ]
  },
  {
   "cell_type": "markdown",
   "id": "76313ac7",
   "metadata": {
    "slideshow": {
     "slide_type": "subslide"
    }
   },
   "source": [
    "## What is data? What kinds of data do you know?"
   ]
  },
  {
   "cell_type": "markdown",
   "id": "5664b925",
   "metadata": {
    "slideshow": {
     "slide_type": "fragment"
    }
   },
   "source": [
    "> In a conceptual model, data (US: /ˈdætə/; UK: /ˈdeɪtə/) is a **collection of discrete values** that convey **information**, describing **quantity, quality, fact, statistics, other basic units of meaning**, or simply **sequences of symbols** that may be further interpreted. ([Wiki article \"Data\"](https://en.wikipedia.org/wiki/Data))"
   ]
  },
  {
   "cell_type": "markdown",
   "id": "057ab2a8",
   "metadata": {
    "slideshow": {
     "slide_type": "fragment"
    }
   },
   "source": [
    "1. Images\n",
    "2. Text\n",
    "3. Tables / Databases\n",
    "4. Times series\n",
    "5. Sensor data"
   ]
  },
  {
   "cell_type": "markdown",
   "id": "bea19fc1",
   "metadata": {
    "slideshow": {
     "slide_type": "subslide"
    }
   },
   "source": [
    "Overall, these different data types can be categorized using the following classes:"
   ]
  },
  {
   "cell_type": "markdown",
   "id": "e8e34216",
   "metadata": {
    "slideshow": {
     "slide_type": "fragment"
    }
   },
   "source": [
    "1. **Structured data**\n",
    "    1. Numerical\n",
    "    2. Categorical\n",
    "2. **Unstructured data**\n",
    "3. **Semi-structured data**"
   ]
  },
  {
   "cell_type": "markdown",
   "id": "30151c16",
   "metadata": {
    "slideshow": {
     "slide_type": "fragment"
    }
   },
   "source": [
    "We will use and analyse different types of data during this course."
   ]
  },
  {
   "cell_type": "markdown",
   "id": "b1c66dfd",
   "metadata": {
    "slideshow": {
     "slide_type": "subslide"
    }
   },
   "source": [
    "### What is \"Data Science\"?"
   ]
  },
  {
   "cell_type": "markdown",
   "id": "3df4ad07",
   "metadata": {
    "slideshow": {
     "slide_type": "fragment"
    }
   },
   "source": [
    "> Data science is a \"concept to **unify statistics, data analysis, informatics, and their related methods**\" in order to \"**understand** and analyse **actual phenomena**\" with data (Hayashi 1998). It uses techniques and theories drawn from many fields within the context of **mathematics, statistics, computer science, information science, and domain knowledge**. (quote from this [Wikipedia article](https://en.wikipedia.org/wiki/Data_science), my highlights)"
   ]
  },
  {
   "cell_type": "markdown",
   "id": "a4f85507",
   "metadata": {
    "slideshow": {
     "slide_type": "fragment"
    }
   },
   "source": [
    "![Google ngram \"Data Science\" 1990–2019.](images/ngram.png)\n",
    "\n",
    "<sup>Google Ngram viewer \"Data Science\" 1990–2019.</sup>"
   ]
  },
  {
   "cell_type": "markdown",
   "id": "3a3c20bd",
   "metadata": {
    "slideshow": {
     "slide_type": "subslide"
    }
   },
   "source": [
    "![Google Trends \"Data Science\" 2004–2022.](images/trends.png)\n",
    "\n",
    "<sup>Google Trends \"Data Science\" 2004–2022.</sup>"
   ]
  },
  {
   "cell_type": "markdown",
   "id": "8afe9315",
   "metadata": {
    "slideshow": {
     "slide_type": "subslide"
    }
   },
   "source": [
    "\"Data science\" is often thought of as \"applied statistics\" or \"big data analysis with computers\". However, I hope that we will see throughout this course that—even though they may play an important role at times—sophisticated statistics and big data are not mandatory to do data science. \n",
    "\n",
    "I suggest is to focus on **applying computational methods to analyze data in order to better understand real world phenomena**."
   ]
  },
  {
   "cell_type": "markdown",
   "id": "41ad2aab",
   "metadata": {
    "slideshow": {
     "slide_type": "fragment"
    }
   },
   "source": [
    "The working definition of \"data science\" for this course is:\n",
    "    \n",
    "> Answering a research question by analyzing data with Python.  "
   ]
  },
  {
   "cell_type": "markdown",
   "id": "cba973ec",
   "metadata": {
    "slideshow": {
     "slide_type": "slide"
    }
   },
   "source": [
    "# 3. Requirements"
   ]
  },
  {
   "cell_type": "markdown",
   "id": "84f6f0cb",
   "metadata": {
    "slideshow": {
     "slide_type": "subslide"
    }
   },
   "source": [
    "This course has both formal and technical requirements."
   ]
  },
  {
   "cell_type": "markdown",
   "id": "f16bcab8",
   "metadata": {
    "slideshow": {
     "slide_type": "subslide"
    }
   },
   "source": [
    "## Technical Requirements"
   ]
  },
  {
   "cell_type": "markdown",
   "id": "7f44ca68",
   "metadata": {
    "slideshow": {
     "slide_type": "fragment"
    }
   },
   "source": [
    "1\\. First of all, you need to have a **decent Python knowledge**. This does not mean that you need to know every single library we will be working with, but I expect from you that feel comfortable using Python. Don't hesitate to ask questions, though."
   ]
  },
  {
   "cell_type": "markdown",
   "id": "24a60781",
   "metadata": {
    "slideshow": {
     "slide_type": "fragment"
    }
   },
   "source": [
    "2\\. You should be comfortable using **Jupyter Notebooks** (if not, please see the course resources)."
   ]
  },
  {
   "cell_type": "markdown",
   "id": "d47da15f",
   "metadata": {
    "slideshow": {
     "slide_type": "fragment"
    }
   },
   "source": [
    "3\\. You should have, bring and use your **own laptop/notebook** during this course."
   ]
  },
  {
   "cell_type": "markdown",
   "id": "e553260b",
   "metadata": {
    "slideshow": {
     "slide_type": "fragment"
    }
   },
   "source": [
    "4\\. (optional) Using **git**/**GitHub** might be a good idea, and I highly recommend you start using git during your projects (if you haven't done so already)."
   ]
  },
  {
   "cell_type": "markdown",
   "id": "278427f1",
   "metadata": {
    "slideshow": {
     "slide_type": "subslide"
    }
   },
   "source": [
    "## Formal Requirements"
   ]
  },
  {
   "cell_type": "markdown",
   "id": "7716aee1",
   "metadata": {
    "slideshow": {
     "slide_type": "fragment"
    }
   },
   "source": [
    "1. You will receive **3 CP** for this course. What I expect from you:\n",
    "2. You **take part in the classes** on a regular basis.\n",
    "3. You conduct a **full-fledged data analysis** using Python and Jupyter notebooks on a dataset that you are interested in.\n",
    "4. You **present and discuss your research** towards the end of the semester."
   ]
  },
  {
   "cell_type": "markdown",
   "id": "15e8faff",
   "metadata": {
    "slideshow": {
     "slide_type": "subslide"
    }
   },
   "source": [
    "## Course Structure"
   ]
  },
  {
   "cell_type": "markdown",
   "id": "be9973d1",
   "metadata": {
    "slideshow": {
     "slide_type": "subslide"
    }
   },
   "source": [
    "Starting with the third session (01. November, APIs), the typical class structure should look like this:\n",
    "\n",
    "1. I will provide **literature** and/or **videos** in preparation for the session. There will be **no tests**, and I will not check if you've read the literature or watched the videos. But I will assume that you have a basic idea of the session's topic.\n",
    "2. Each session will start with a **brief input** (max. 20 minutes), followed by a **hands-on** part where I will give you tasks, you can start working on your material, and/or where we discuss questions and problems (depending on the session's topic)."
   ]
  },
  {
   "cell_type": "markdown",
   "id": "8fec99eb",
   "metadata": {
    "slideshow": {
     "slide_type": "subslide"
    }
   },
   "source": [
    "There is a plethora of literature, websites, video tutorials on advanced Python techniques and data science. I will refer to different sources throughout this course (also see the bibligraphy in the corresponding ILIAS folder)."
   ]
  },
  {
   "cell_type": "markdown",
   "id": "1fe12275",
   "metadata": {
    "slideshow": {
     "slide_type": "subslide"
    }
   },
   "source": [
    "Yet, a book that I personally found very useful and that I will often refer to in this course is *Practical Data Science with Python* by Nathan George (O'Reilly, 2021). You should have free access to the online version of this book via the UB, which is why I will mostly indicate the corresponding page numbers instead of uploading scans of individual chapters."
   ]
  },
  {
   "cell_type": "markdown",
   "id": "2651a249",
   "metadata": {},
   "source": [
    "![](images/practical_data_science.png)"
   ]
  },
  {
   "cell_type": "markdown",
   "id": "a9c50b13",
   "metadata": {},
   "source": [
    "1. Sitzung\t(18. Okt 2022, 10:00 - 12:00) **Allgemeine Einführung und Semesterplanung**\n",
    "2. Sitzung (25. Okt 2022, 10:00 - 12:00) **Data Science - Eine Einführung**\n",
    "3. Sitzung (01. Nov 2022, 10:00 - 12:00) **Datenbeschaffung I: APIs**\n",
    "4. Sitzung (08. Nov 2022, 10:00 - 12:00) **Datenbeschaffung II: Web Scraping**\n",
    "5. Sitzung (15. Nov 2022, 10:00 - 12:00) **Datenbereinigung & Datenvorbereitung**\n",
    "6. Sitzung (22. Nov 2022, 10:00 - 12:00) **Explorative Datenanalyse (EDA)**\n",
    "7. Sitzung (29. Nov 2022, 10:00 - 12:00) **Maschinelles Lernen I**\n",
    "8. Sitzung (06. Dez 2022, 10:00 - 12:00) **Maschinelles Lernen II**\n",
    "9. Sitzung (13. Dez 2022, 10:00 - 12:00) **Datenanalyse I**\n",
    "10. Sitzung (20. Dez 2022, 10:00 - 12:00) **Datenanalyse II**\n",
    "11. Sitzung (10. Jan 2023, 10:00 - 12:00) **Visualisierung**\n",
    "12. Sitzung (17. Jan 2023, 10:00 - 12:00) **Publikation**\n",
    "13. Sitzung (24. Jan 2023, 10:00 - 12:00) **Präsentation**\n",
    "14. Situng (31. Jan 2023, 10:00 - 12:00) **Abschlusssitzung**\n"
   ]
  },
  {
   "cell_type": "markdown",
   "id": "8459642c",
   "metadata": {
    "slideshow": {
     "slide_type": "slide"
    }
   },
   "source": [
    "# 4. Goals"
   ]
  },
  {
   "cell_type": "markdown",
   "id": "848143b4",
   "metadata": {
    "slideshow": {
     "slide_type": "subslide"
    }
   },
   "source": [
    "1\\. Deepen your **Python knowledge**."
   ]
  },
  {
   "cell_type": "markdown",
   "id": "cdb82fc0",
   "metadata": {
    "slideshow": {
     "slide_type": "fragment"
    }
   },
   "source": [
    "2\\. Getting familiar with **important Python libraries** (pandas, scikit-learn, seaborn etc.)."
   ]
  },
  {
   "cell_type": "markdown",
   "id": "2c05f4a2",
   "metadata": {
    "slideshow": {
     "slide_type": "fragment"
    }
   },
   "source": [
    "3\\. Working with **Jupyter Notebooks** and **virtual environments**."
   ]
  },
  {
   "cell_type": "markdown",
   "id": "d692ce7a",
   "metadata": {
    "slideshow": {
     "slide_type": "fragment"
    }
   },
   "source": [
    "4\\. Working with **git**, **Markdown**, **HTML/CSS** etc."
   ]
  },
  {
   "cell_type": "markdown",
   "id": "d92a209f",
   "metadata": {
    "slideshow": {
     "slide_type": "fragment"
    }
   },
   "source": [
    "5\\. Acquiring some basic **statistical skills**."
   ]
  },
  {
   "cell_type": "markdown",
   "id": "4bdf716c",
   "metadata": {
    "slideshow": {
     "slide_type": "fragment"
    }
   },
   "source": [
    "6\\. Knowing how to **conduct data-driven research** with Python (**!!!**)."
   ]
  },
  {
   "cell_type": "markdown",
   "id": "6218aba7",
   "metadata": {
    "slideshow": {
     "slide_type": "subslide"
    }
   },
   "source": [
    "It is **crucial that you find a dataset and a topic that interests you** during the first half of the semester! You may work with dummy data for a while, for instance to learn certain methods. However, why would you want to analyze sensor data from an industrial machine if your actual work focusses on Dutch oil paintings from early modern times?"
   ]
  },
  {
   "cell_type": "markdown",
   "id": "396c3b01",
   "metadata": {
    "slideshow": {
     "slide_type": "slide"
    }
   },
   "source": [
    "# 5. Tasks for the Next Session"
   ]
  },
  {
   "cell_type": "markdown",
   "id": "0b3be428",
   "metadata": {
    "slideshow": {
     "slide_type": "subslide"
    }
   },
   "source": [
    "If you encounter any problems, please do not hesitate to contact me. We have enough time during the next session to solve the technical problems you may encounter. Yet, it would be great to let me know in advance (for instance, via email)."
   ]
  },
  {
   "cell_type": "markdown",
   "id": "b57f56a4",
   "metadata": {
    "slideshow": {
     "slide_type": "fragment"
    }
   },
   "source": [
    "1\\. **Set up a folder and a Python environment** (I recommend using Python 3.8, 3.9 or 3.10) for this course. Please do not use Anaconda/Conda but preferably `venv`."
   ]
  },
  {
   "cell_type": "markdown",
   "id": "59745b66",
   "metadata": {
    "slideshow": {
     "slide_type": "fragment"
    }
   },
   "source": [
    "2\\. Get familiar with **Jupyter notebooks** (and install them in your virtual environment)."
   ]
  },
  {
   "cell_type": "markdown",
   "id": "eeaf789e",
   "metadata": {
    "slideshow": {
     "slide_type": "fragment"
    }
   },
   "source": [
    "3\\. Do some **brainstorming**: Is there a (research) question you are interested in and that you would like to approach using a computational data analysis? What kind of data do you need? Do you already have an idea where you could get it from?\n"
   ]
  },
  {
   "cell_type": "markdown",
   "id": "d8026ad4",
   "metadata": {
    "slideshow": {
     "slide_type": "fragment"
    }
   },
   "source": [
    "4\\. (**optional**) Use git for version control."
   ]
  },
  {
   "cell_type": "markdown",
   "id": "e0a37338",
   "metadata": {
    "slideshow": {
     "slide_type": "fragment"
    }
   },
   "source": [
    "5\\. (**optional**) Read through some of the articles in the `Resources` (ILIAS/GitHub) folder about \"Data Science\".\n"
   ]
  },
  {
   "cell_type": "markdown",
   "id": "ce8d8e03",
   "metadata": {
    "slideshow": {
     "slide_type": "slide"
    }
   },
   "source": [
    "# 6. Resources\n",
    "\n",
    "## Jupyter Notebooks\n",
    "\n",
    "How to use Jupyter notebooks (by Jeremy Howard on [Kaggle](https://www.kaggle.com)): [Jupyter 101](https://www.kaggle.com/code/jhoward/jupyter-notebook-101)\n",
    "\n",
    "## Virtual Environments (Python)\n",
    "Creating a virtual environment using `venv`: [Official Python venv docs and tutorial](https://packaging.python.org/en/latest/guides/installing-using-pip-and-virtual-environments/#creating-a-virtual-environment)\n",
    "\n",
    "## Markdown\n",
    "\n",
    "A [Medium](https://medium.com/) article introducing Markdown with Jupyter notebooks: [Link](https://medium.com/analytics-vidhya/the-ultimate-markdown-guide-for-jupyter-notebook-d5e5abf728fd)\n",
    "\n",
    "## Git/GitHub\n",
    "W3Schools git tutorial: [Link](https://www.w3schools.com/git/default.asp?remote=github)"
   ]
  }
 ],
 "metadata": {
  "kernelspec": {
   "display_name": "Python 3 (ipykernel)",
   "language": "python",
   "name": "python3"
  },
  "language_info": {
   "codemirror_mode": {
    "name": "ipython",
    "version": 3
   },
   "file_extension": ".py",
   "mimetype": "text/x-python",
   "name": "python",
   "nbconvert_exporter": "python",
   "pygments_lexer": "ipython3",
   "version": "3.8.10"
  }
 },
 "nbformat": 4,
 "nbformat_minor": 5
}
