{
  "nbformat": 4,
  "nbformat_minor": 0,
  "metadata": {
    "colab": {
      "provenance": [],
      "collapsed_sections": [],
      "mount_file_id": "1EJ0QqqTXZJHm8J07JYZ-AlToxhtZbXQd",
      "authorship_tag": "ABX9TyNoKusXXGZA7YB5CkI1lRXn"
    },
    "kernelspec": {
      "name": "python3",
      "display_name": "Python 3"
    },
    "language_info": {
      "name": "python"
    }
  },
  "cells": [
    {
      "cell_type": "markdown",
      "source": [
        "# Datenakquise via Twitter API v2\n",
        "<small>Stand: 0.1 (28.09.2022)</small>  \n",
        "\n",
        "Dieses Notebook enthält Funktionen, die es erlauben, Tweets zu einem bestimmten Thema (in diesem Falle \"climate change\") herunterzuladen und abzuspeichern."
      ],
      "metadata": {
        "id": "Eemfzz9BwiDj"
      }
    },
    {
      "cell_type": "code",
      "source": [
        "%pip install --upgrade tweepy"
      ],
      "metadata": {
        "colab": {
          "base_uri": "https://localhost:8080/"
        },
        "id": "hee6ufdqi2XK",
        "outputId": "c7d37bdc-f7bf-4400-d916-0b0005bcaa90"
      },
      "execution_count": 1,
      "outputs": [
        {
          "output_type": "stream",
          "name": "stdout",
          "text": [
            "Looking in indexes: https://pypi.org/simple, https://us-python.pkg.dev/colab-wheels/public/simple/\n",
            "Requirement already satisfied: tweepy in /usr/local/lib/python3.7/dist-packages (3.10.0)\n",
            "Collecting tweepy\n",
            "  Downloading tweepy-4.10.1-py3-none-any.whl (94 kB)\n",
            "\u001b[K     |████████████████████████████████| 94 kB 3.4 MB/s \n",
            "\u001b[?25hRequirement already satisfied: requests-oauthlib<2,>=1.2.0 in /usr/local/lib/python3.7/dist-packages (from tweepy) (1.3.1)\n",
            "Requirement already satisfied: oauthlib<4,>=3.2.0 in /usr/local/lib/python3.7/dist-packages (from tweepy) (3.2.0)\n",
            "Collecting requests<3,>=2.27.0\n",
            "  Downloading requests-2.28.1-py3-none-any.whl (62 kB)\n",
            "\u001b[K     |████████████████████████████████| 62 kB 1.2 MB/s \n",
            "\u001b[?25hRequirement already satisfied: certifi>=2017.4.17 in /usr/local/lib/python3.7/dist-packages (from requests<3,>=2.27.0->tweepy) (2022.6.15)\n",
            "Requirement already satisfied: urllib3<1.27,>=1.21.1 in /usr/local/lib/python3.7/dist-packages (from requests<3,>=2.27.0->tweepy) (1.24.3)\n",
            "Requirement already satisfied: charset-normalizer<3,>=2 in /usr/local/lib/python3.7/dist-packages (from requests<3,>=2.27.0->tweepy) (2.1.1)\n",
            "Requirement already satisfied: idna<4,>=2.5 in /usr/local/lib/python3.7/dist-packages (from requests<3,>=2.27.0->tweepy) (2.10)\n",
            "Installing collected packages: requests, tweepy\n",
            "  Attempting uninstall: requests\n",
            "    Found existing installation: requests 2.23.0\n",
            "    Uninstalling requests-2.23.0:\n",
            "      Successfully uninstalled requests-2.23.0\n",
            "  Attempting uninstall: tweepy\n",
            "    Found existing installation: tweepy 3.10.0\n",
            "    Uninstalling tweepy-3.10.0:\n",
            "      Successfully uninstalled tweepy-3.10.0\n",
            "Successfully installed requests-2.28.1 tweepy-4.10.1\n"
          ]
        }
      ]
    },
    {
      "cell_type": "code",
      "execution_count": 53,
      "metadata": {
        "id": "YXcAwxtvg2cs"
      },
      "outputs": [],
      "source": [
        "import tweepy\n",
        "from datetime import datetime\n",
        "import random\n",
        "import json"
      ]
    },
    {
      "cell_type": "markdown",
      "source": [
        "# Funktionen\n",
        "Einige grundlegende Funktionen, um Tweets über die Twitter API v2 via Tweepy herunterzuladen."
      ],
      "metadata": {
        "id": "fb1hUj6jACm4"
      }
    },
    {
      "cell_type": "code",
      "source": [
        "def get_tweets(q:str, api_key:str, tweet_fields, page_limit=1, max_results=10, save_as=\"JSON\"):\n",
        "  '''\n",
        "  Function to get tweets via Tweepy.\n",
        "\n",
        "  Parameters\n",
        "  ----------\n",
        "    q : str\n",
        "      The search term(s). See the Twitter API v2 docs for further instructions.\n",
        "    api_key: str\n",
        "      The API key needed to initialize Tweepy Client object.\n",
        "    tweet_fields: list(str)\n",
        "      List of additional tweet fields (see Twitter API v2 docs).\n",
        "    page_limit: int\n",
        "      Enables pagination if there are more tweets than can be retrieved with\n",
        "      a single request. (default=1)\n",
        "    max_results : int, optional\n",
        "      The maximal number of tweets per query (max. is 100 for free tier users).\n",
        "      (default=10)\n",
        "    save_as: str, optional #TODO\n",
        "      The datatype to store the tweets (JSON, CSV). (default=JSON)  \n",
        "\n",
        "  RETURNS\n",
        "  -------\n",
        "    Last retrieved tweepy.Response object.\n",
        "  '''\n",
        "  # initialize client\n",
        "  client = tweepy.Client(api_key)\n",
        "\n",
        "  # get tweets\n",
        "  tweets = client.search_recent_tweets(q, tweet_fields=tweet_fields, max_results=max_results)\n",
        "\n",
        "  # save tweets\n",
        "  if save_as==\"JSON\":\n",
        "    with open(f\"drive/MyDrive/tweets_{datetime.now().strftime('%Y_%m_%d_v1')}.json\", \"a\") as f:\n",
        "      for tweet in tweets.data:\n",
        "        f.write(json.dumps(tweet.data))\n",
        "        f.write(\"\\n\")    \n",
        "\n",
        "  # check if there are more pages\n",
        "  if page_limit > 1 and tweets.meta[\"next_token\"]:\n",
        "    counter = 1\n",
        "    while counter < page_limit and tweets.meta[\"next_token\"]:\n",
        "      # get tweets\n",
        "      tweets = client.search_recent_tweets(q, tweet_fields=tweet_fields, max_results=max_results, next_token=tweets.meta[\"next_token\"])\n",
        "      # save tweets\n",
        "      if save_as==\"JSON\":\n",
        "        with open(f\"drive/MyDrive/tweets_{datetime.now().strftime('%Y_%m_%d_v')}{str(counter+1)}.json\", \"a\") as f:\n",
        "          for tweet in tweets.data:\n",
        "            f.write(json.dumps(tweet.data))\n",
        "            f.write(\"\\n\")   \n",
        "      counter += 1\n",
        "\n",
        "  return tweets # return last retrieved tweet page"
      ],
      "metadata": {
        "id": "ui3PlczG9aCm"
      },
      "execution_count": 54,
      "outputs": []
    },
    {
      "cell_type": "markdown",
      "source": [
        "# Herunterladen Tweets via API v2"
      ],
      "metadata": {
        "id": "xEoXhCOnAEpL"
      }
    },
    {
      "cell_type": "code",
      "source": [
        "API_KEY = \"AAAAAAAAAAAAAAAAAAAAAH5wYgEAAAAAhu8dS5BHTXPuIU%2BxIz28jLMG6d4%3DeDYbBg48BFbSkz8YhLylTByOQ9dDg9PucNqtXoguvCr7XI3AkI\""
      ],
      "metadata": {
        "id": "OXSozcwX0qo-"
      },
      "execution_count": 55,
      "outputs": []
    },
    {
      "cell_type": "code",
      "source": [
        "query = '\"climate change\" -is:retweet lang:en'"
      ],
      "metadata": {
        "id": "mT8HW4QlAcx5"
      },
      "execution_count": 56,
      "outputs": []
    },
    {
      "cell_type": "code",
      "source": [
        "tweets = get_tweets(query, API_KEY, tweet_fields=[\"author_id\", \"geo\", \"created_at\", \"entities\", \"attachments\", \"public_metrics\"], page_limit=5, max_results=20)"
      ],
      "metadata": {
        "id": "dUUzuL1LipBr"
      },
      "execution_count": 57,
      "outputs": []
    },
    {
      "cell_type": "code",
      "source": [
        "tweets.meta"
      ],
      "metadata": {
        "id": "WYFyGtIwiIM7",
        "colab": {
          "base_uri": "https://localhost:8080/"
        },
        "outputId": "2aebfc68-7ee7-4934-b965-21fae7878366"
      },
      "execution_count": 37,
      "outputs": [
        {
          "output_type": "execute_result",
          "data": {
            "text/plain": [
              "{'newest_id': '1575393204249190400',\n",
              " 'oldest_id': '1575392815118692352',\n",
              " 'result_count': 10,\n",
              " 'next_token': 'b26v89c19zqg8o3fpzblrszjqm9ryjf95avgvtq0un43h'}"
            ]
          },
          "metadata": {},
          "execution_count": 37
        }
      ]
    },
    {
      "cell_type": "markdown",
      "source": [
        "# Laden der Tweets"
      ],
      "metadata": {
        "id": "mqnyksjaJNUm"
      }
    },
    {
      "cell_type": "code",
      "source": [
        "import glob\n",
        "from pathlib import Path\n",
        "import os"
      ],
      "metadata": {
        "id": "LuzvxtFtkE9y"
      },
      "execution_count": 59,
      "outputs": []
    },
    {
      "cell_type": "code",
      "source": [
        "tweets_list = list()"
      ],
      "metadata": {
        "id": "eSo4KNBhJYe8"
      },
      "execution_count": 63,
      "outputs": []
    },
    {
      "cell_type": "code",
      "source": [
        "for path in glob.glob(\"drive/MyDrive/*.json\"):\n",
        "  with open(path, \"r\") as f:\n",
        "    for line in f.readlines():\n",
        "      tweets_list.append(json.loads(line))"
      ],
      "metadata": {
        "id": "gU66x6HkkZwl"
      },
      "execution_count": 64,
      "outputs": []
    },
    {
      "cell_type": "code",
      "source": [
        "tweets_list[0][\"text\"]"
      ],
      "metadata": {
        "id": "EP-f-CtcszE3",
        "colab": {
          "base_uri": "https://localhost:8080/",
          "height": 35
        },
        "outputId": "d5640c03-574e-4e4e-d596-6a492a108e24"
      },
      "execution_count": 69,
      "outputs": [
        {
          "output_type": "execute_result",
          "data": {
            "text/plain": [
              "'Hurricane Ian’s rapid intensification is a sign of the world to come  https://t.co/23kd3kZPGq via @voxdotcom'"
            ],
            "application/vnd.google.colaboratory.intrinsic+json": {
              "type": "string"
            }
          },
          "metadata": {},
          "execution_count": 69
        }
      ]
    },
    {
      "cell_type": "code",
      "source": [],
      "metadata": {
        "id": "xiueBrX0t7AE"
      },
      "execution_count": null,
      "outputs": []
    },
    {
      "cell_type": "code",
      "source": [],
      "metadata": {
        "id": "E1aysGzv-HXk"
      },
      "execution_count": null,
      "outputs": []
    },
    {
      "cell_type": "code",
      "source": [],
      "metadata": {
        "id": "5CXDtOstCsPx"
      },
      "execution_count": null,
      "outputs": []
    }
  ]
}